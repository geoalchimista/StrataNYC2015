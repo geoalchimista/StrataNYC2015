{
 "cells": [
  {
   "cell_type": "markdown",
   "metadata": {
    "slideshow": {
     "slide_type": "slide"
    }
   },
   "source": [
    "# Importing Data"
   ]
  },
  {
   "cell_type": "code",
   "execution_count": 14,
   "metadata": {
    "collapsed": false,
    "slideshow": {
     "slide_type": "subslide"
    }
   },
   "outputs": [
    {
     "data": {
      "text/plain": [
       "u'0.17.0rc1'"
      ]
     },
     "execution_count": 14,
     "metadata": {},
     "output_type": "execute_result"
    }
   ],
   "source": [
    "import numpy as np\n",
    "import pandas as pd\n",
    "pd.options.display.max_rows = 6\n",
    "pd.options.display.max_columns = 6\n",
    "pd.__version__"
   ]
  },
  {
   "cell_type": "markdown",
   "metadata": {
    "slideshow": {
     "slide_type": "slide"
    }
   },
   "source": [
    "We often times have a variety of input data.\n",
    "\n",
    "- CSV\n",
    "- Excel\n",
    "- SQL\n",
    "- HDF5"
   ]
  },
  {
   "cell_type": "markdown",
   "metadata": {
    "slideshow": {
     "slide_type": "subslide"
    }
   },
   "source": [
    "This is subset of the data from beeradvocate.com, via [Standford](https://snap.stanford.edu/data/web-RateBeer.html). It's strangely formatted.\n",
    "\n",
    "```\n",
    "beer/name: Sausa Weizen\n",
    "beer/beerId: 47986\n",
    "beer/brewerId: 10325\n",
    "beer/ABV: 5.00\n",
    "beer/style: Hefeweizen\n",
    "review/appearance: 2.5\n",
    "review/aroma: 2\n",
    "review/palate: 1.5\n",
    "review/taste: 1.5\n",
    "review/overall: 1.5\n",
    "review/time: 1234817823\n",
    "review/profileName: stcules\n",
    "review/text: A lot of foam. But a lot.\tIn the smell some banana, and then lactic and tart. Not a good start.\tQuite dark orange in color, with a lively carbonation (now visible, under the foam).\tAgain tending to lactic sourness.\tSame for the taste. With some yeast and banana.\t\t\n",
    "\n",
    "beer/name: Red Moon\n",
    "beer/beerId: 48213\n",
    "beer/brewerId: 10325\n",
    "beer/ABV: 6.20\n",
    " ...\n",
    "```\n",
    "\n",
    "The dataset was a bit large to processess all at once\n",
    "\n",
    "```bash\n",
    "$ wc -l beeradvocate.txt\n",
    " 22212596 beeradvocate.txt\n",
    "```"
   ]
  },
  {
   "cell_type": "markdown",
   "metadata": {
    "slideshow": {
     "slide_type": "subslide"
    }
   },
   "source": [
    "```python\n",
    "def format_review(review):\n",
    "    return dict(map(lambda x: x.strip().split(\": \", 1), review))\n",
    "\n",
    "def as_dataframe(reviews):\n",
    "    col_names = {\n",
    "        'beer/ABV': 'abv', 'beer/beerId': 'beer_id', 'beer/brewerId': 'brewer_id',\n",
    "        'beer/name': 'beer_name', 'beer/style': 'beer_style',\n",
    "        'review/appearance': 'review_appearance', 'review/aroma': 'review_aroma',\n",
    "        'review/overall': 'review_overll', 'review/palate': 'review_palate',\n",
    "        'review/profileName': 'profile_name', 'review/taste': 'review_taste',\n",
    "        'review/text': 'text', 'review/time': 'time'\n",
    "    }\n",
    "    df = pd.DataFrame(list(reviews))\n",
    "    numeric = ['abv', 'review_appearance', 'review_aroma',\n",
    "               'review_overall', 'review_palate', 'review_taste']\n",
    "    df = (df.rename(columns=col_names)\n",
    "            .replace('', np.nan))\n",
    "    df[numeric] = df[numeric].astype(float)\n",
    "    df['time'] = pd.to_datetime(df.time.astype(int), unit='s')\n",
    "    return df\n",
    "\n",
    "def main():\n",
    "    with open('beeradvocate.txt') as f:\n",
    "        reviews = filter(lambda x: x != ('\\n',),\n",
    "                         partitionby(lambda x: x == '\\n', f))\n",
    "        reviews = map(format_review, reviews)\n",
    "        reviews = partition(100000, reviews, pad=None)\n",
    "        reviews = filter(None, reviews)\n",
    "        os.makedirs('beer_reviews', exist_ok=True)\n",
    "\n",
    "        for i, subset in enumerate(reviews):\n",
    "            print(i, end='\\r')\n",
    "            df = as_dataframe(subset)\n",
    "            df.to_csv('beer_reviews/review_%s.csv' % i, index=False)\n",
    "```"
   ]
  },
  {
   "cell_type": "markdown",
   "metadata": {
    "slideshow": {
     "slide_type": "slide"
    }
   },
   "source": [
    "# Bootstrap\n",
    "\n",
    "Let's get the data"
   ]
  },
  {
   "cell_type": "code",
   "execution_count": 4,
   "metadata": {
    "collapsed": true
   },
   "outputs": [],
   "source": [
    "df = pd.read_csv('data/beer2.csv.gz', index_col=0, parse_dates=['time'])"
   ]
  },
  {
   "cell_type": "markdown",
   "metadata": {
    "slideshow": {
     "slide_type": "slide"
    }
   },
   "source": [
    "# CSV"
   ]
  },
  {
   "cell_type": "code",
   "execution_count": 5,
   "metadata": {
    "collapsed": true
   },
   "outputs": [],
   "source": [
    "df = pd.read_csv('data/beer.csv', index_col=0, parse_dates=['time'])"
   ]
  },
  {
   "cell_type": "code",
   "execution_count": 6,
   "metadata": {
    "collapsed": true
   },
   "outputs": [],
   "source": [
    "df.to_csv('tmp/beer.csv')"
   ]
  },
  {
   "cell_type": "markdown",
   "metadata": {
    "slideshow": {
     "slide_type": "slide"
    }
   },
   "source": [
    "# Excel"
   ]
  },
  {
   "cell_type": "code",
   "execution_count": 7,
   "metadata": {
    "collapsed": false,
    "slideshow": {
     "slide_type": "-"
    }
   },
   "outputs": [],
   "source": [
    "df = pd.read_excel('data/beer.xls', sheetnames=[0])"
   ]
  },
  {
   "cell_type": "code",
   "execution_count": 8,
   "metadata": {
    "collapsed": true
   },
   "outputs": [],
   "source": [
    "df.to_excel('tmp/beer.xls')"
   ]
  },
  {
   "cell_type": "markdown",
   "metadata": {
    "slideshow": {
     "slide_type": "slide"
    }
   },
   "source": [
    "# SQL"
   ]
  },
  {
   "cell_type": "markdown",
   "metadata": {},
   "source": [
    "odo library\n",
    "\n",
    "http://odo.readthedocs.org/en/latest/\n"
   ]
  },
  {
   "cell_type": "code",
   "execution_count": 9,
   "metadata": {
    "collapsed": false
   },
   "outputs": [],
   "source": [
    "from odo import odo\n",
    "df = odo('sqlite:///data/beer.sqlite::table', pd.DataFrame)"
   ]
  },
  {
   "cell_type": "code",
   "execution_count": 10,
   "metadata": {
    "collapsed": false
   },
   "outputs": [
    {
     "data": {
      "text/plain": [
       "Table('table', MetaData(bind=Engine(sqlite:///tmp/beer.sqlite)), Column('abv', Float(precision=53), table=<table>), Column('beer_id', BigInteger(), table=<table>, nullable=False), Column('brewer_id', BigInteger(), table=<table>, nullable=False), Column('beer_name', Text(), table=<table>), Column('beer_style', Text(), table=<table>), Column('review_appearance', Float(precision=53), table=<table>), Column('review_aroma', Float(precision=53), table=<table>), Column('review_overall', Float(precision=53), table=<table>), Column('review_palate', Float(precision=53), table=<table>), Column('profile_name', Text(), table=<table>), Column('review_taste', Float(precision=53), table=<table>), Column('text', Text(), table=<table>), Column('time', DateTime(), table=<table>), schema=None)"
      ]
     },
     "execution_count": 10,
     "metadata": {},
     "output_type": "execute_result"
    }
   ],
   "source": [
    "!rm tmp/beer.sqlite\n",
    "odo(df, 'sqlite:///tmp/beer.sqlite::table')"
   ]
  },
  {
   "cell_type": "markdown",
   "metadata": {
    "slideshow": {
     "slide_type": "slide"
    }
   },
   "source": [
    "# HDF"
   ]
  },
  {
   "cell_type": "code",
   "execution_count": 11,
   "metadata": {
    "collapsed": false
   },
   "outputs": [],
   "source": [
    "df = pd.read_hdf('data/beer.hdf','df')"
   ]
  },
  {
   "cell_type": "code",
   "execution_count": 13,
   "metadata": {
    "collapsed": false
   },
   "outputs": [],
   "source": [
    "df.to_hdf('data/beer.hdf','df',mode='w',format='fixed')"
   ]
  },
  {
   "cell_type": "markdown",
   "metadata": {
    "slideshow": {
     "slide_type": "slide"
    }
   },
   "source": [
    "# Timings"
   ]
  },
  {
   "cell_type": "code",
   "execution_count": 14,
   "metadata": {
    "collapsed": false
   },
   "outputs": [
    {
     "name": "stdout",
     "output_type": "stream",
     "text": [
      "1 loops, best of 3: 2.76 s per loop\n"
     ]
    }
   ],
   "source": [
    "%timeit pd.read_excel('data/beer.xls', sheetnames=[0])"
   ]
  },
  {
   "cell_type": "code",
   "execution_count": 16,
   "metadata": {
    "collapsed": false,
    "slideshow": {
     "slide_type": "fragment"
    }
   },
   "outputs": [
    {
     "name": "stdout",
     "output_type": "stream",
     "text": [
      "1 loops, best of 3: 958 ms per loop\n"
     ]
    }
   ],
   "source": [
    "%timeit odo('sqlite:///data/beer.sqlite::table', pd.DataFrame)"
   ]
  },
  {
   "cell_type": "code",
   "execution_count": 17,
   "metadata": {
    "collapsed": false,
    "slideshow": {
     "slide_type": "fragment"
    }
   },
   "outputs": [
    {
     "name": "stdout",
     "output_type": "stream",
     "text": [
      "1 loops, best of 3: 559 ms per loop\n"
     ]
    }
   ],
   "source": [
    "%timeit pd.read_csv('data/beer2.csv', index_col=0, parse_dates=['time'])"
   ]
  },
  {
   "cell_type": "code",
   "execution_count": 18,
   "metadata": {
    "collapsed": false,
    "slideshow": {
     "slide_type": "fragment"
    }
   },
   "outputs": [
    {
     "name": "stdout",
     "output_type": "stream",
     "text": [
      "1 loops, best of 3: 273 ms per loop\n"
     ]
    }
   ],
   "source": [
    "%timeit pd.read_hdf('data/beer.hdf','df')"
   ]
  }
 ],
 "metadata": {
  "celltoolbar": "Slideshow",
  "kernelspec": {
   "display_name": "Python 2",
   "language": "python",
   "name": "python2"
  },
  "language_info": {
   "codemirror_mode": {
    "name": "ipython",
    "version": 2
   },
   "file_extension": ".py",
   "mimetype": "text/x-python",
   "name": "python",
   "nbconvert_exporter": "python",
   "pygments_lexer": "ipython2",
   "version": "2.7.10"
  }
 },
 "nbformat": 4,
 "nbformat_minor": 0
}
