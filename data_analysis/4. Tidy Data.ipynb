{
 "cells": [
  {
   "cell_type": "markdown",
   "metadata": {
    "slideshow": {
     "slide_type": "slide"
    }
   },
   "source": [
    "# Tidy Data"
   ]
  },
  {
   "cell_type": "code",
   "execution_count": 43,
   "metadata": {
    "collapsed": true,
    "slideshow": {
     "slide_type": "subslide"
    }
   },
   "outputs": [],
   "source": [
    "import numpy as np\n",
    "import pandas as pd\n",
    "import seaborn as sns\n",
    "import matplotlib.pyplot as plt\n",
    "%matplotlib inline\n",
    "\n",
    "pd.options.display.max_rows = 6\n",
    "pd.options.display.max_columns = 6"
   ]
  },
  {
   "cell_type": "markdown",
   "metadata": {
    "slideshow": {
     "slide_type": "slide"
    }
   },
   "source": [
    "# Tidy Data\n",
    "\n",
    "> Structuring datasets to facilitate analysis [(Wickham 2014)](http://www.jstatsoft.org/v59/i10/paper)\n",
    "\n",
    "If there's one maxim I can impart it's that your tools shouldn't get in the way of your analysis. Your problem is already difficult enough, don't let the data or your tools make it any harder.\n",
    "\n",
    "## The Rules\n",
    "\n",
    "In a tidy dataset...\n",
    "\n",
    "1. Each variable forms a column\n",
    "2. Each observation forms a row\n",
    "3. Each type of observational unit forms a table\n",
    "\n",
    "We'll cover a few methods that help you get there."
   ]
  },
  {
   "cell_type": "markdown",
   "metadata": {},
   "source": [
    "Based on [this](http://stackoverflow.com/questions/22695680/python-pandas-timedelta-specific-rows) StackOverflow question."
   ]
  },
  {
   "cell_type": "markdown",
   "metadata": {
    "slideshow": {
     "slide_type": "slide"
    }
   },
   "source": [
    "I fetched some data\n",
    "\n",
    "```python\n",
    "tables = pd.read_html(\"http://www.basketball-reference.com/leagues/NBA_2015_games.html\")\n",
    "games = tables[0]\n",
    "games.to_csv('data/games.csv', index=False)\n",
    "```"
   ]
  },
  {
   "cell_type": "code",
   "execution_count": 44,
   "metadata": {
    "collapsed": false
   },
   "outputs": [
    {
     "name": "stdout",
     "output_type": "stream",
     "text": [
      "Date,Unnamed: 1,Visitor/Neutral,PTS,Home/Neutral,PTS.1,Unnamed: 6,Notes\r\n",
      "\"Tue, Oct 28, 2014\",Box Score,Houston Rockets,108,Los Angeles Lakers,90,,\r\n"
     ]
    }
   ],
   "source": [
    "!head -n 2 data/games.csv"
   ]
  },
  {
   "cell_type": "markdown",
   "metadata": {
    "slideshow": {
     "slide_type": "slide"
    }
   },
   "source": [
    "The Question:\n",
    "> **How many days of rest did each team get between each game?**\n",
    "\n",
    "Whether or not your dataset is tidy depends on your question. Given our question, what is an observation?"
   ]
  },
  {
   "cell_type": "code",
   "execution_count": 45,
   "metadata": {
    "collapsed": false,
    "slideshow": {
     "slide_type": "slide"
    }
   },
   "outputs": [
    {
     "data": {
      "text/html": [
       "<div>\n",
       "<table border=\"1\" class=\"dataframe\">\n",
       "  <thead>\n",
       "    <tr style=\"text-align: right;\">\n",
       "      <th></th>\n",
       "      <th></th>\n",
       "      <th>away_team</th>\n",
       "      <th>away_points</th>\n",
       "      <th>home_team</th>\n",
       "      <th>home_points</th>\n",
       "    </tr>\n",
       "    <tr>\n",
       "      <th>game_id</th>\n",
       "      <th>date</th>\n",
       "      <th></th>\n",
       "      <th></th>\n",
       "      <th></th>\n",
       "      <th></th>\n",
       "    </tr>\n",
       "  </thead>\n",
       "  <tbody>\n",
       "    <tr>\n",
       "      <th>0</th>\n",
       "      <th>2014-10-28</th>\n",
       "      <td>Houston Rockets</td>\n",
       "      <td>108</td>\n",
       "      <td>Los Angeles Lakers</td>\n",
       "      <td>90</td>\n",
       "    </tr>\n",
       "    <tr>\n",
       "      <th>1</th>\n",
       "      <th>2014-10-28</th>\n",
       "      <td>Orlando Magic</td>\n",
       "      <td>84</td>\n",
       "      <td>New Orleans Pelicans</td>\n",
       "      <td>101</td>\n",
       "    </tr>\n",
       "    <tr>\n",
       "      <th>2</th>\n",
       "      <th>2014-10-28</th>\n",
       "      <td>Dallas Mavericks</td>\n",
       "      <td>100</td>\n",
       "      <td>San Antonio Spurs</td>\n",
       "      <td>101</td>\n",
       "    </tr>\n",
       "    <tr>\n",
       "      <th>3</th>\n",
       "      <th>2014-10-29</th>\n",
       "      <td>Brooklyn Nets</td>\n",
       "      <td>105</td>\n",
       "      <td>Boston Celtics</td>\n",
       "      <td>121</td>\n",
       "    </tr>\n",
       "    <tr>\n",
       "      <th>4</th>\n",
       "      <th>2014-10-29</th>\n",
       "      <td>Milwaukee Bucks</td>\n",
       "      <td>106</td>\n",
       "      <td>Charlotte Hornets</td>\n",
       "      <td>108</td>\n",
       "    </tr>\n",
       "  </tbody>\n",
       "</table>\n",
       "</div>"
      ],
      "text/plain": [
       "                           away_team  away_points             home_team  home_points\n",
       "game_id date                                                                        \n",
       "0       2014-10-28   Houston Rockets          108    Los Angeles Lakers           90\n",
       "1       2014-10-28     Orlando Magic           84  New Orleans Pelicans          101\n",
       "2       2014-10-28  Dallas Mavericks          100     San Antonio Spurs          101\n",
       "3       2014-10-29     Brooklyn Nets          105        Boston Celtics          121\n",
       "4       2014-10-29   Milwaukee Bucks          106     Charlotte Hornets          108"
      ]
     },
     "execution_count": 45,
     "metadata": {},
     "output_type": "execute_result"
    }
   ],
   "source": [
    "column_names = ['date', '_', 'away_team', 'away_points', 'home_team',\n",
    "                'home_points', 'n_ot', 'notes']\n",
    "games = (pd.read_csv('data/games.csv', names=column_names, parse_dates=['date'],\n",
    "                     skiprows=1)\n",
    "           .drop(['_', 'notes', 'n_ot'], axis='columns')\n",
    "           .set_index('date', append=True))\n",
    "games.index.names = ['game_id', 'date']\n",
    "games.head()"
   ]
  },
  {
   "cell_type": "markdown",
   "metadata": {
    "slideshow": {
     "slide_type": "slide"
    }
   },
   "source": [
    "Is `games` a tidy dataset, given our question? No, we have multiple observations (teams) per row. We'll use `pd.melt` to fix that."
   ]
  },
  {
   "cell_type": "code",
   "execution_count": 48,
   "metadata": {
    "collapsed": false,
    "slideshow": {
     "slide_type": "fragment"
    }
   },
   "outputs": [],
   "source": [
    "tidy = pd.melt(games.sort_index().reset_index(),\n",
    "               id_vars=['game_id', 'date'], value_vars=['away_team', 'home_team'],\n",
    "               value_name='team')"
   ]
  },
  {
   "cell_type": "code",
   "execution_count": 49,
   "metadata": {
    "collapsed": false,
    "slideshow": {
     "slide_type": "fragment"
    }
   },
   "outputs": [
    {
     "data": {
      "text/html": [
       "<div>\n",
       "<table border=\"1\" class=\"dataframe\">\n",
       "  <thead>\n",
       "    <tr style=\"text-align: right;\">\n",
       "      <th></th>\n",
       "      <th>game_id</th>\n",
       "      <th>date</th>\n",
       "      <th>variable</th>\n",
       "      <th>team</th>\n",
       "    </tr>\n",
       "  </thead>\n",
       "  <tbody>\n",
       "    <tr>\n",
       "      <th>0</th>\n",
       "      <td>0</td>\n",
       "      <td>2014-10-28</td>\n",
       "      <td>away_team</td>\n",
       "      <td>Houston Rockets</td>\n",
       "    </tr>\n",
       "    <tr>\n",
       "      <th>1</th>\n",
       "      <td>1</td>\n",
       "      <td>2014-10-28</td>\n",
       "      <td>away_team</td>\n",
       "      <td>Orlando Magic</td>\n",
       "    </tr>\n",
       "    <tr>\n",
       "      <th>2</th>\n",
       "      <td>2</td>\n",
       "      <td>2014-10-28</td>\n",
       "      <td>away_team</td>\n",
       "      <td>Dallas Mavericks</td>\n",
       "    </tr>\n",
       "    <tr>\n",
       "      <th>3</th>\n",
       "      <td>3</td>\n",
       "      <td>2014-10-29</td>\n",
       "      <td>away_team</td>\n",
       "      <td>Brooklyn Nets</td>\n",
       "    </tr>\n",
       "    <tr>\n",
       "      <th>4</th>\n",
       "      <td>4</td>\n",
       "      <td>2014-10-29</td>\n",
       "      <td>away_team</td>\n",
       "      <td>Milwaukee Bucks</td>\n",
       "    </tr>\n",
       "  </tbody>\n",
       "</table>\n",
       "</div>"
      ],
      "text/plain": [
       "   game_id       date   variable              team\n",
       "0        0 2014-10-28  away_team   Houston Rockets\n",
       "1        1 2014-10-28  away_team     Orlando Magic\n",
       "2        2 2014-10-28  away_team  Dallas Mavericks\n",
       "3        3 2014-10-29  away_team     Brooklyn Nets\n",
       "4        4 2014-10-29  away_team   Milwaukee Bucks"
      ]
     },
     "execution_count": 49,
     "metadata": {},
     "output_type": "execute_result"
    }
   ],
   "source": [
    "tidy.head()"
   ]
  },
  {
   "cell_type": "markdown",
   "metadata": {
    "slideshow": {
     "slide_type": "slide"
    }
   },
   "source": [
    "Now the translation from question to operation is direct:"
   ]
  },
  {
   "cell_type": "code",
   "execution_count": 50,
   "metadata": {
    "collapsed": false,
    "slideshow": {
     "slide_type": "-"
    }
   },
   "outputs": [
    {
     "data": {
      "text/plain": [
       "0      NaN\n",
       "1      NaN\n",
       "2      NaN\n",
       "        ..\n",
       "2457     4\n",
       "2458     1\n",
       "2459    10\n",
       "dtype: float64"
      ]
     },
     "execution_count": 50,
     "metadata": {},
     "output_type": "execute_result"
    }
   ],
   "source": [
    "# For each team... get number of dates between games\n",
    "tidy.groupby('team')['date'].diff().dt.days - 1"
   ]
  },
  {
   "cell_type": "code",
   "execution_count": 7,
   "metadata": {
    "collapsed": false,
    "slideshow": {
     "slide_type": "slide"
    }
   },
   "outputs": [
    {
     "data": {
      "text/html": [
       "<div>\n",
       "<table border=\"1\" class=\"dataframe\">\n",
       "  <thead>\n",
       "    <tr style=\"text-align: right;\">\n",
       "      <th></th>\n",
       "      <th>game_id</th>\n",
       "      <th>date</th>\n",
       "      <th>variable</th>\n",
       "      <th>team</th>\n",
       "      <th>rest</th>\n",
       "    </tr>\n",
       "  </thead>\n",
       "  <tbody>\n",
       "    <tr>\n",
       "      <th>2455</th>\n",
       "      <td>1225</td>\n",
       "      <td>2015-04-15</td>\n",
       "      <td>home_team</td>\n",
       "      <td>Minnesota Timberwolves</td>\n",
       "      <td>1</td>\n",
       "    </tr>\n",
       "    <tr>\n",
       "      <th>2456</th>\n",
       "      <td>1226</td>\n",
       "      <td>2015-04-15</td>\n",
       "      <td>home_team</td>\n",
       "      <td>New Orleans Pelicans</td>\n",
       "      <td>1</td>\n",
       "    </tr>\n",
       "    <tr>\n",
       "      <th>2457</th>\n",
       "      <td>1227</td>\n",
       "      <td>2015-04-15</td>\n",
       "      <td>home_team</td>\n",
       "      <td>New York Knicks</td>\n",
       "      <td>1</td>\n",
       "    </tr>\n",
       "    <tr>\n",
       "      <th>2458</th>\n",
       "      <td>1228</td>\n",
       "      <td>2015-04-15</td>\n",
       "      <td>home_team</td>\n",
       "      <td>Philadelphia 76ers</td>\n",
       "      <td>1</td>\n",
       "    </tr>\n",
       "    <tr>\n",
       "      <th>2459</th>\n",
       "      <td>1229</td>\n",
       "      <td>2015-04-15</td>\n",
       "      <td>home_team</td>\n",
       "      <td>Toronto Raptors</td>\n",
       "      <td>0</td>\n",
       "    </tr>\n",
       "  </tbody>\n",
       "</table>\n",
       "</div>"
      ],
      "text/plain": [
       "      game_id       date   variable                    team  rest\n",
       "2455     1225 2015-04-15  home_team  Minnesota Timberwolves     1\n",
       "2456     1226 2015-04-15  home_team    New Orleans Pelicans     1\n",
       "2457     1227 2015-04-15  home_team         New York Knicks     1\n",
       "2458     1228 2015-04-15  home_team      Philadelphia 76ers     1\n",
       "2459     1229 2015-04-15  home_team         Toronto Raptors     0"
      ]
     },
     "execution_count": 7,
     "metadata": {},
     "output_type": "execute_result"
    }
   ],
   "source": [
    "tidy['rest'] = tidy.sort_values('date').groupby('team').date.diff().dt.days - 1\n",
    "tidy.dropna().tail()"
   ]
  },
  {
   "cell_type": "code",
   "execution_count": 8,
   "metadata": {
    "collapsed": false,
    "slideshow": {
     "slide_type": "slide"
    }
   },
   "outputs": [
    {
     "data": {
      "image/png": "[encoded data removed]",
      "text/plain": [
       "<matplotlib.figure.Figure at 0x10b68eb50>"
      ]
     },
     "metadata": {},
     "output_type": "display_data"
    }
   ],
   "source": [
    "g = sns.FacetGrid(data=tidy.dropna(), col='team', col_wrap=5, hue='team')\n",
    "g.map(sns.barplot, \"variable\", \"rest\");"
   ]
  },
  {
   "cell_type": "markdown",
   "metadata": {
    "slideshow": {
     "slide_type": "slide"
    }
   },
   "source": [
    "What are we doing?"
   ]
  },
  {
   "cell_type": "code",
   "execution_count": 9,
   "metadata": {
    "collapsed": false,
    "slideshow": {
     "slide_type": "fragment"
    }
   },
   "outputs": [
    {
     "data": {
      "image/png": "[encoded data removed]",
      "text/plain": [
       "<matplotlib.figure.Figure at 0x10b68e650>"
      ]
     },
     "metadata": {},
     "output_type": "display_data"
    }
   ],
   "source": [
    "r = tidy.dropna()\n",
    "r = r[r.team == 'Los Angeles Lakers']\n",
    "g = sns.FacetGrid(data=r, col='team', col_wrap=5, hue='team')\n",
    "g.map(sns.barplot, \"variable\", \"rest\");"
   ]
  },
  {
   "cell_type": "code",
   "execution_count": 10,
   "metadata": {
    "collapsed": false,
    "slideshow": {
     "slide_type": "fragment"
    }
   },
   "outputs": [
    {
     "data": {
      "text/plain": [
       "variable\n",
       "away_team    0.731707\n",
       "home_team    1.450000\n",
       "Name: rest, dtype: float64"
      ]
     },
     "execution_count": 10,
     "metadata": {},
     "output_type": "execute_result"
    }
   ],
   "source": [
    "g = r.groupby('variable')\n",
    "g.rest.sum()/g.rest.count()"
   ]
  },
  {
   "cell_type": "markdown",
   "metadata": {
    "collapsed": true,
    "slideshow": {
     "slide_type": "slide"
    }
   },
   "source": [
    "# Stack / Unstack"
   ]
  },
  {
   "cell_type": "markdown",
   "metadata": {},
   "source": [
    "An \"observation\" depends on the question. Home team advantage?"
   ]
  },
  {
   "cell_type": "code",
   "execution_count": 12,
   "metadata": {
    "collapsed": false
   },
   "outputs": [
    {
     "name": "stdout",
     "output_type": "stream",
     "text": [
      "('Home win percent:', 0.5747967479674797)\n"
     ]
    },
    {
     "data": {
      "image/png": "[encoded data removed]",
      "text/plain": [
       "<matplotlib.figure.Figure at 0x10e92f7d0>"
      ]
     },
     "metadata": {},
     "output_type": "display_data"
    }
   ],
   "source": [
    "home_adv = games.home_points - games.away_points\n",
    "ax = (home_adv).plot(kind='hist', bins=80, color='k', figsize=(10, 5))\n",
    "ax.set_xlim(-40, 40)\n",
    "mu = home_adv.mean()\n",
    "ax.vlines(mu, *ax.get_ylim(), color='steelblue', linewidth=3)\n",
    "print('Home win percent:', (home_adv > 0).mean())"
   ]
  },
  {
   "cell_type": "markdown",
   "metadata": {
    "slideshow": {
     "slide_type": "slide"
    }
   },
   "source": [
    "# Team Strength"
   ]
  },
  {
   "cell_type": "markdown",
   "metadata": {},
   "source": [
    "# Mini Project: Home Court Advantage?\n",
    "\n",
    "What's the effect (in terms of probability to win) of being\n",
    "the home team."
   ]
  },
  {
   "cell_type": "markdown",
   "metadata": {},
   "source": [
    "### Step 1: Calculate Win %"
   ]
  },
  {
   "cell_type": "markdown",
   "metadata": {},
   "source": [
    "We need to create an indicator for whether the home team won.\n",
    "Add it as a column called `home_win` in `games`."
   ]
  },
  {
   "cell_type": "code",
   "execution_count": 14,
   "metadata": {
    "collapsed": false
   },
   "outputs": [
    {
     "data": {
      "text/html": [
       "<div>\n",
       "<table border=\"1\" class=\"dataframe\">\n",
       "  <thead>\n",
       "    <tr style=\"text-align: right;\">\n",
       "      <th></th>\n",
       "      <th></th>\n",
       "      <th>away_team</th>\n",
       "      <th>away_points</th>\n",
       "      <th>home_team</th>\n",
       "      <th>home_points</th>\n",
       "      <th>home_win</th>\n",
       "    </tr>\n",
       "    <tr>\n",
       "      <th>game_id</th>\n",
       "      <th>date</th>\n",
       "      <th></th>\n",
       "      <th></th>\n",
       "      <th></th>\n",
       "      <th></th>\n",
       "      <th></th>\n",
       "    </tr>\n",
       "  </thead>\n",
       "  <tbody>\n",
       "    <tr>\n",
       "      <th>0</th>\n",
       "      <th>2014-10-28</th>\n",
       "      <td>Houston Rockets</td>\n",
       "      <td>108</td>\n",
       "      <td>Los Angeles Lakers</td>\n",
       "      <td>90</td>\n",
       "      <td>False</td>\n",
       "    </tr>\n",
       "    <tr>\n",
       "      <th>1</th>\n",
       "      <th>2014-10-28</th>\n",
       "      <td>Orlando Magic</td>\n",
       "      <td>84</td>\n",
       "      <td>New Orleans Pelicans</td>\n",
       "      <td>101</td>\n",
       "      <td>True</td>\n",
       "    </tr>\n",
       "    <tr>\n",
       "      <th>2</th>\n",
       "      <th>2014-10-28</th>\n",
       "      <td>Dallas Mavericks</td>\n",
       "      <td>100</td>\n",
       "      <td>San Antonio Spurs</td>\n",
       "      <td>101</td>\n",
       "      <td>True</td>\n",
       "    </tr>\n",
       "    <tr>\n",
       "      <th>3</th>\n",
       "      <th>2014-10-29</th>\n",
       "      <td>Brooklyn Nets</td>\n",
       "      <td>105</td>\n",
       "      <td>Boston Celtics</td>\n",
       "      <td>121</td>\n",
       "      <td>True</td>\n",
       "    </tr>\n",
       "    <tr>\n",
       "      <th>4</th>\n",
       "      <th>2014-10-29</th>\n",
       "      <td>Milwaukee Bucks</td>\n",
       "      <td>106</td>\n",
       "      <td>Charlotte Hornets</td>\n",
       "      <td>108</td>\n",
       "      <td>True</td>\n",
       "    </tr>\n",
       "  </tbody>\n",
       "</table>\n",
       "</div>"
      ],
      "text/plain": [
       "                           away_team  away_points             home_team  home_points home_win\n",
       "game_id date                                                                                 \n",
       "0       2014-10-28   Houston Rockets          108    Los Angeles Lakers           90    False\n",
       "1       2014-10-28     Orlando Magic           84  New Orleans Pelicans          101     True\n",
       "2       2014-10-28  Dallas Mavericks          100     San Antonio Spurs          101     True\n",
       "3       2014-10-29     Brooklyn Nets          105        Boston Celtics          121     True\n",
       "4       2014-10-29   Milwaukee Bucks          106     Charlotte Hornets          108     True"
      ]
     },
     "execution_count": 14,
     "metadata": {},
     "output_type": "execute_result"
    }
   ],
   "source": [
    "games['home_win'] = games['home_points'] > games['away_points']\n",
    "games.head()"
   ]
  },
  {
   "cell_type": "markdown",
   "metadata": {
    "slideshow": {
     "slide_type": "slide"
    }
   },
   "source": [
    "### Step 2: Find the win percent for each team\n",
    "\n",
    "Teams are split across two columns. It's easiest to calculate the number of wins and\n",
    "number of games as away, and the number of wins and number of games as home. Then\n",
    "combine those two results to get the win percent."
   ]
  },
  {
   "cell_type": "code",
   "execution_count": 15,
   "metadata": {
    "collapsed": false
   },
   "outputs": [],
   "source": [
    "wins_as_away = games.groupby('away_team').home_win.agg(\n",
    "    {'n_games': 'count', 'n_wins': lambda x: (~x).sum()}\n",
    ")\n",
    "wins_as_home = games.groupby('home_team').home_win.agg(\n",
    "    {'n_games': 'count', 'n_wins': 'sum'}\n",
    ")\n",
    "wins = (wins_as_away + wins_as_home)\n",
    "wins_as_home.columns = ['n_wins', 'n_games']\n",
    "wins_as_away.columns = ['n_wins', 'n_games']"
   ]
  },
  {
   "cell_type": "markdown",
   "metadata": {},
   "source": [
    "Now add `wins_as_home` and `wins_as_away` to get a DataFrame with\n",
    "two columsn, `n_wins`, and `n_games` and one row per team.\n",
    "\n",
    "Finally, calculate the win percent."
   ]
  },
  {
   "cell_type": "code",
   "execution_count": 16,
   "metadata": {
    "collapsed": false
   },
   "outputs": [],
   "source": [
    "# Win percent\n",
    "wins = (wins_as_away + wins_as_home)\n",
    "strength = wins.n_wins / wins.n_games\n",
    "strength.index.name = 'team'\n",
    "strength.name = 'strength'"
   ]
  },
  {
   "cell_type": "code",
   "execution_count": 18,
   "metadata": {
    "collapsed": false
   },
   "outputs": [
    {
     "data": {
      "text/plain": [
       "<matplotlib.axes._subplots.AxesSubplot at 0x10e767710>"
      ]
     },
     "execution_count": 18,
     "metadata": {},
     "output_type": "execute_result"
    },
    {
     "data": {
      "image/png": "[encoded data removed]",
      "text/plain": [
       "<matplotlib.figure.Figure at 0x10d834d50>"
      ]
     },
     "metadata": {},
     "output_type": "display_data"
    }
   ],
   "source": [
    "strength.sort_values().plot(kind='barh', figsize=(5, 12))"
   ]
  },
  {
   "cell_type": "markdown",
   "metadata": {},
   "source": [
    "Bring the `strength` valuess in for each team, for each game."
   ]
  },
  {
   "cell_type": "code",
   "execution_count": 19,
   "metadata": {
    "collapsed": false
   },
   "outputs": [
    {
     "data": {
      "text/html": [
       "<div>\n",
       "<table border=\"1\" class=\"dataframe\">\n",
       "  <thead>\n",
       "    <tr style=\"text-align: right;\">\n",
       "      <th></th>\n",
       "      <th></th>\n",
       "      <th>away_team</th>\n",
       "      <th>away_points</th>\n",
       "      <th>home_team</th>\n",
       "      <th>home_points</th>\n",
       "      <th>home_win</th>\n",
       "    </tr>\n",
       "    <tr>\n",
       "      <th>game_id</th>\n",
       "      <th>date</th>\n",
       "      <th></th>\n",
       "      <th></th>\n",
       "      <th></th>\n",
       "      <th></th>\n",
       "      <th></th>\n",
       "    </tr>\n",
       "  </thead>\n",
       "  <tbody>\n",
       "    <tr>\n",
       "      <th>0</th>\n",
       "      <th>2014-10-28</th>\n",
       "      <td>Houston Rockets</td>\n",
       "      <td>108</td>\n",
       "      <td>Los Angeles Lakers</td>\n",
       "      <td>90</td>\n",
       "      <td>False</td>\n",
       "    </tr>\n",
       "    <tr>\n",
       "      <th>1</th>\n",
       "      <th>2014-10-28</th>\n",
       "      <td>Orlando Magic</td>\n",
       "      <td>84</td>\n",
       "      <td>New Orleans Pelicans</td>\n",
       "      <td>101</td>\n",
       "      <td>True</td>\n",
       "    </tr>\n",
       "    <tr>\n",
       "      <th>2</th>\n",
       "      <th>2014-10-28</th>\n",
       "      <td>Dallas Mavericks</td>\n",
       "      <td>100</td>\n",
       "      <td>San Antonio Spurs</td>\n",
       "      <td>101</td>\n",
       "      <td>True</td>\n",
       "    </tr>\n",
       "    <tr>\n",
       "      <th>3</th>\n",
       "      <th>2014-10-29</th>\n",
       "      <td>Brooklyn Nets</td>\n",
       "      <td>105</td>\n",
       "      <td>Boston Celtics</td>\n",
       "      <td>121</td>\n",
       "      <td>True</td>\n",
       "    </tr>\n",
       "    <tr>\n",
       "      <th>4</th>\n",
       "      <th>2014-10-29</th>\n",
       "      <td>Milwaukee Bucks</td>\n",
       "      <td>106</td>\n",
       "      <td>Charlotte Hornets</td>\n",
       "      <td>108</td>\n",
       "      <td>True</td>\n",
       "    </tr>\n",
       "  </tbody>\n",
       "</table>\n",
       "</div>"
      ],
      "text/plain": [
       "                           away_team  away_points             home_team  home_points home_win\n",
       "game_id date                                                                                 \n",
       "0       2014-10-28   Houston Rockets          108    Los Angeles Lakers           90    False\n",
       "1       2014-10-28     Orlando Magic           84  New Orleans Pelicans          101     True\n",
       "2       2014-10-28  Dallas Mavericks          100     San Antonio Spurs          101     True\n",
       "3       2014-10-29     Brooklyn Nets          105        Boston Celtics          121     True\n",
       "4       2014-10-29   Milwaukee Bucks          106     Charlotte Hornets          108     True"
      ]
     },
     "execution_count": 19,
     "metadata": {},
     "output_type": "execute_result"
    }
   ],
   "source": [
    "games.head()"
   ]
  },
  {
   "cell_type": "markdown",
   "metadata": {},
   "source": [
    "For SQL people\n",
    "\n",
    "```sql\n",
    "SELECT *\n",
    "FROM games NATURAL JOIN strength\n",
    "```\n",
    "\n",
    "We just need to get the names worked out."
   ]
  },
  {
   "cell_type": "code",
   "execution_count": 20,
   "metadata": {
    "collapsed": false
   },
   "outputs": [
    {
     "data": {
      "text/html": [
       "<div>\n",
       "<table border=\"1\" class=\"dataframe\">\n",
       "  <thead>\n",
       "    <tr style=\"text-align: right;\">\n",
       "      <th></th>\n",
       "      <th>away_team</th>\n",
       "      <th>away_strength</th>\n",
       "    </tr>\n",
       "  </thead>\n",
       "  <tbody>\n",
       "    <tr>\n",
       "      <th>0</th>\n",
       "      <td>Atlanta Hawks</td>\n",
       "      <td>1.366667</td>\n",
       "    </tr>\n",
       "    <tr>\n",
       "      <th>1</th>\n",
       "      <td>Boston Celtics</td>\n",
       "      <td>2.050000</td>\n",
       "    </tr>\n",
       "    <tr>\n",
       "      <th>2</th>\n",
       "      <td>Brooklyn Nets</td>\n",
       "      <td>2.157895</td>\n",
       "    </tr>\n",
       "    <tr>\n",
       "      <th>3</th>\n",
       "      <td>Charlotte Hornets</td>\n",
       "      <td>2.484848</td>\n",
       "    </tr>\n",
       "    <tr>\n",
       "      <th>4</th>\n",
       "      <td>Chicago Bulls</td>\n",
       "      <td>1.640000</td>\n",
       "    </tr>\n",
       "  </tbody>\n",
       "</table>\n",
       "</div>"
      ],
      "text/plain": [
       "           away_team  away_strength\n",
       "0      Atlanta Hawks       1.366667\n",
       "1     Boston Celtics       2.050000\n",
       "2      Brooklyn Nets       2.157895\n",
       "3  Charlotte Hornets       2.484848\n",
       "4      Chicago Bulls       1.640000"
      ]
     },
     "execution_count": 20,
     "metadata": {},
     "output_type": "execute_result"
    }
   ],
   "source": [
    "strength.head().reset_index().rename(columns=lambda x: 'away_' + x)"
   ]
  },
  {
   "cell_type": "code",
   "execution_count": 21,
   "metadata": {
    "collapsed": false
   },
   "outputs": [
    {
     "data": {
      "text/html": [
       "<div>\n",
       "<table border=\"1\" class=\"dataframe\">\n",
       "  <thead>\n",
       "    <tr style=\"text-align: right;\">\n",
       "      <th></th>\n",
       "      <th></th>\n",
       "      <th>away_team</th>\n",
       "      <th>away_points</th>\n",
       "      <th>home_team</th>\n",
       "      <th>...</th>\n",
       "      <th>home_win</th>\n",
       "      <th>away_strength</th>\n",
       "      <th>home_strength</th>\n",
       "    </tr>\n",
       "    <tr>\n",
       "      <th>game_id</th>\n",
       "      <th>date</th>\n",
       "      <th></th>\n",
       "      <th></th>\n",
       "      <th></th>\n",
       "      <th></th>\n",
       "      <th></th>\n",
       "      <th></th>\n",
       "      <th></th>\n",
       "    </tr>\n",
       "  </thead>\n",
       "  <tbody>\n",
       "    <tr>\n",
       "      <th>0</th>\n",
       "      <th>2014-10-28</th>\n",
       "      <td>Houston Rockets</td>\n",
       "      <td>108</td>\n",
       "      <td>Los Angeles Lakers</td>\n",
       "      <td>...</td>\n",
       "      <td>False</td>\n",
       "      <td>1.464286</td>\n",
       "      <td>3.904762</td>\n",
       "    </tr>\n",
       "    <tr>\n",
       "      <th>661</th>\n",
       "      <th>2015-01-25</th>\n",
       "      <td>Houston Rockets</td>\n",
       "      <td>99</td>\n",
       "      <td>Los Angeles Lakers</td>\n",
       "      <td>...</td>\n",
       "      <td>False</td>\n",
       "      <td>1.464286</td>\n",
       "      <td>3.904762</td>\n",
       "    </tr>\n",
       "    <tr>\n",
       "      <th>541</th>\n",
       "      <th>2015-01-09</th>\n",
       "      <td>Orlando Magic</td>\n",
       "      <td>84</td>\n",
       "      <td>Los Angeles Lakers</td>\n",
       "      <td>...</td>\n",
       "      <td>True</td>\n",
       "      <td>3.280000</td>\n",
       "      <td>3.904762</td>\n",
       "    </tr>\n",
       "    <tr>\n",
       "      <th>...</th>\n",
       "      <th>...</th>\n",
       "      <td>...</td>\n",
       "      <td>...</td>\n",
       "      <td>...</td>\n",
       "      <td>...</td>\n",
       "      <td>...</td>\n",
       "      <td>...</td>\n",
       "      <td>...</td>\n",
       "    </tr>\n",
       "    <tr>\n",
       "      <th>476</th>\n",
       "      <th>2014-12-31</th>\n",
       "      <td>Charlotte Hornets</td>\n",
       "      <td>83</td>\n",
       "      <td>Houston Rockets</td>\n",
       "      <td>...</td>\n",
       "      <td>True</td>\n",
       "      <td>2.484848</td>\n",
       "      <td>1.464286</td>\n",
       "    </tr>\n",
       "    <tr>\n",
       "      <th>380</th>\n",
       "      <th>2014-12-18</th>\n",
       "      <td>New Orleans Pelicans</td>\n",
       "      <td>99</td>\n",
       "      <td>Houston Rockets</td>\n",
       "      <td>...</td>\n",
       "      <td>False</td>\n",
       "      <td>1.822222</td>\n",
       "      <td>1.464286</td>\n",
       "    </tr>\n",
       "    <tr>\n",
       "      <th>1195</th>\n",
       "      <th>2015-04-12</th>\n",
       "      <td>New Orleans Pelicans</td>\n",
       "      <td>114</td>\n",
       "      <td>Houston Rockets</td>\n",
       "      <td>...</td>\n",
       "      <td>True</td>\n",
       "      <td>1.822222</td>\n",
       "      <td>1.464286</td>\n",
       "    </tr>\n",
       "  </tbody>\n",
       "</table>\n",
       "<p>1230 rows × 7 columns</p>\n",
       "</div>"
      ],
      "text/plain": [
       "                               away_team  away_points           home_team      ...        home_win away_strength  home_strength\n",
       "game_id date                                                                   ...                                             \n",
       "0       2014-10-28       Houston Rockets          108  Los Angeles Lakers      ...           False      1.464286       3.904762\n",
       "661     2015-01-25       Houston Rockets           99  Los Angeles Lakers      ...           False      1.464286       3.904762\n",
       "541     2015-01-09         Orlando Magic           84  Los Angeles Lakers      ...            True      3.280000       3.904762\n",
       "...                                  ...          ...                 ...      ...             ...           ...            ...\n",
       "476     2014-12-31     Charlotte Hornets           83     Houston Rockets      ...            True      2.484848       1.464286\n",
       "380     2014-12-18  New Orleans Pelicans           99     Houston Rockets      ...           False      1.822222       1.464286\n",
       "1195    2015-04-12  New Orleans Pelicans          114     Houston Rockets      ...            True      1.822222       1.464286\n",
       "\n",
       "[1230 rows x 7 columns]"
      ]
     },
     "execution_count": 21,
     "metadata": {},
     "output_type": "execute_result"
    }
   ],
   "source": [
    "(pd.merge(games.reset_index(), strength.reset_index().add_prefix('away_'))\n",
    "   .pipe(pd.merge, strength.reset_index().add_prefix('home_'))\n",
    "   .set_index(['game_id', 'date']))"
   ]
  },
  {
   "cell_type": "markdown",
   "metadata": {},
   "source": [
    "For python people"
   ]
  },
  {
   "cell_type": "code",
   "execution_count": 22,
   "metadata": {
    "collapsed": false
   },
   "outputs": [
    {
     "data": {
      "text/html": [
       "<div>\n",
       "<table border=\"1\" class=\"dataframe\">\n",
       "  <thead>\n",
       "    <tr style=\"text-align: right;\">\n",
       "      <th></th>\n",
       "      <th></th>\n",
       "      <th>away_team</th>\n",
       "      <th>away_points</th>\n",
       "      <th>home_team</th>\n",
       "      <th>...</th>\n",
       "      <th>home_win</th>\n",
       "      <th>away_strength</th>\n",
       "      <th>home_strength</th>\n",
       "    </tr>\n",
       "    <tr>\n",
       "      <th>game_id</th>\n",
       "      <th>date</th>\n",
       "      <th></th>\n",
       "      <th></th>\n",
       "      <th></th>\n",
       "      <th></th>\n",
       "      <th></th>\n",
       "      <th></th>\n",
       "      <th></th>\n",
       "    </tr>\n",
       "  </thead>\n",
       "  <tbody>\n",
       "    <tr>\n",
       "      <th>0</th>\n",
       "      <th>2014-10-28</th>\n",
       "      <td>Houston Rockets</td>\n",
       "      <td>108</td>\n",
       "      <td>Los Angeles Lakers</td>\n",
       "      <td>...</td>\n",
       "      <td>False</td>\n",
       "      <td>1.464286</td>\n",
       "      <td>3.904762</td>\n",
       "    </tr>\n",
       "    <tr>\n",
       "      <th>1</th>\n",
       "      <th>2014-10-28</th>\n",
       "      <td>Orlando Magic</td>\n",
       "      <td>84</td>\n",
       "      <td>New Orleans Pelicans</td>\n",
       "      <td>...</td>\n",
       "      <td>True</td>\n",
       "      <td>3.280000</td>\n",
       "      <td>1.822222</td>\n",
       "    </tr>\n",
       "    <tr>\n",
       "      <th>2</th>\n",
       "      <th>2014-10-28</th>\n",
       "      <td>Dallas Mavericks</td>\n",
       "      <td>100</td>\n",
       "      <td>San Antonio Spurs</td>\n",
       "      <td>...</td>\n",
       "      <td>True</td>\n",
       "      <td>1.640000</td>\n",
       "      <td>1.490909</td>\n",
       "    </tr>\n",
       "    <tr>\n",
       "      <th>3</th>\n",
       "      <th>2014-10-29</th>\n",
       "      <td>Brooklyn Nets</td>\n",
       "      <td>105</td>\n",
       "      <td>Boston Celtics</td>\n",
       "      <td>...</td>\n",
       "      <td>True</td>\n",
       "      <td>2.157895</td>\n",
       "      <td>2.050000</td>\n",
       "    </tr>\n",
       "    <tr>\n",
       "      <th>4</th>\n",
       "      <th>2014-10-29</th>\n",
       "      <td>Milwaukee Bucks</td>\n",
       "      <td>106</td>\n",
       "      <td>Charlotte Hornets</td>\n",
       "      <td>...</td>\n",
       "      <td>True</td>\n",
       "      <td>2.000000</td>\n",
       "      <td>2.484848</td>\n",
       "    </tr>\n",
       "  </tbody>\n",
       "</table>\n",
       "<p>5 rows × 7 columns</p>\n",
       "</div>"
      ],
      "text/plain": [
       "                           away_team  away_points             home_team      ...        home_win away_strength  home_strength\n",
       "game_id date                                                                 ...                                             \n",
       "0       2014-10-28   Houston Rockets          108    Los Angeles Lakers      ...           False      1.464286       3.904762\n",
       "1       2014-10-28     Orlando Magic           84  New Orleans Pelicans      ...            True      3.280000       1.822222\n",
       "2       2014-10-28  Dallas Mavericks          100     San Antonio Spurs      ...            True      1.640000       1.490909\n",
       "3       2014-10-29     Brooklyn Nets          105        Boston Celtics      ...            True      2.157895       2.050000\n",
       "4       2014-10-29   Milwaukee Bucks          106     Charlotte Hornets      ...            True      2.000000       2.484848\n",
       "\n",
       "[5 rows x 7 columns]"
      ]
     },
     "execution_count": 22,
     "metadata": {},
     "output_type": "execute_result"
    }
   ],
   "source": [
    "games = games.assign(away_strength=games.away_team.map(strength),\n",
    "                     home_strength=games.home_team.map(strength))\n",
    "games.head()"
   ]
  },
  {
   "cell_type": "markdown",
   "metadata": {
    "slideshow": {
     "slide_type": "slide"
    }
   },
   "source": [
    "# Pivoting"
   ]
  },
  {
   "cell_type": "code",
   "execution_count": 33,
   "metadata": {
    "collapsed": false
   },
   "outputs": [
    {
     "data": {
      "text/html": [
       "<div>\n",
       "<table border=\"1\" class=\"dataframe\">\n",
       "  <thead>\n",
       "    <tr style=\"text-align: right;\">\n",
       "      <th></th>\n",
       "      <th>game_id</th>\n",
       "      <th>date</th>\n",
       "      <th>variable</th>\n",
       "      <th>team</th>\n",
       "      <th>rest</th>\n",
       "    </tr>\n",
       "  </thead>\n",
       "  <tbody>\n",
       "    <tr>\n",
       "      <th>0</th>\n",
       "      <td>0</td>\n",
       "      <td>2014-10-28</td>\n",
       "      <td>away_team</td>\n",
       "      <td>Houston Rockets</td>\n",
       "      <td>NaN</td>\n",
       "    </tr>\n",
       "    <tr>\n",
       "      <th>1</th>\n",
       "      <td>1</td>\n",
       "      <td>2014-10-28</td>\n",
       "      <td>away_team</td>\n",
       "      <td>Orlando Magic</td>\n",
       "      <td>NaN</td>\n",
       "    </tr>\n",
       "    <tr>\n",
       "      <th>2</th>\n",
       "      <td>2</td>\n",
       "      <td>2014-10-28</td>\n",
       "      <td>away_team</td>\n",
       "      <td>Dallas Mavericks</td>\n",
       "      <td>NaN</td>\n",
       "    </tr>\n",
       "    <tr>\n",
       "      <th>...</th>\n",
       "      <td>...</td>\n",
       "      <td>...</td>\n",
       "      <td>...</td>\n",
       "      <td>...</td>\n",
       "      <td>...</td>\n",
       "    </tr>\n",
       "    <tr>\n",
       "      <th>2457</th>\n",
       "      <td>1227</td>\n",
       "      <td>2015-04-15</td>\n",
       "      <td>home_team</td>\n",
       "      <td>New York Knicks</td>\n",
       "      <td>1</td>\n",
       "    </tr>\n",
       "    <tr>\n",
       "      <th>2458</th>\n",
       "      <td>1228</td>\n",
       "      <td>2015-04-15</td>\n",
       "      <td>home_team</td>\n",
       "      <td>Philadelphia 76ers</td>\n",
       "      <td>1</td>\n",
       "    </tr>\n",
       "    <tr>\n",
       "      <th>2459</th>\n",
       "      <td>1229</td>\n",
       "      <td>2015-04-15</td>\n",
       "      <td>home_team</td>\n",
       "      <td>Toronto Raptors</td>\n",
       "      <td>0</td>\n",
       "    </tr>\n",
       "  </tbody>\n",
       "</table>\n",
       "<p>2460 rows × 5 columns</p>\n",
       "</div>"
      ],
      "text/plain": [
       "      game_id       date   variable                team  rest\n",
       "0           0 2014-10-28  away_team     Houston Rockets   NaN\n",
       "1           1 2014-10-28  away_team       Orlando Magic   NaN\n",
       "2           2 2014-10-28  away_team    Dallas Mavericks   NaN\n",
       "...       ...        ...        ...                 ...   ...\n",
       "2457     1227 2015-04-15  home_team     New York Knicks     1\n",
       "2458     1228 2015-04-15  home_team  Philadelphia 76ers     1\n",
       "2459     1229 2015-04-15  home_team     Toronto Raptors     0\n",
       "\n",
       "[2460 rows x 5 columns]"
      ]
     },
     "execution_count": 33,
     "metadata": {},
     "output_type": "execute_result"
    }
   ],
   "source": [
    "tidy"
   ]
  },
  {
   "cell_type": "code",
   "execution_count": 31,
   "metadata": {
    "collapsed": true,
    "slideshow": {
     "slide_type": "subslide"
    }
   },
   "outputs": [],
   "source": [
    "un = pd.pivot_table(tidy, values='rest',\n",
    "                    index=['game_id', 'date'],\n",
    "                    columns='variable').rename(\n",
    "    columns={'away_team': 'away_rest', 'home_team': 'home_rest'}\n",
    ")\n",
    "un.columns.name = None"
   ]
  },
  {
   "cell_type": "code",
   "execution_count": 32,
   "metadata": {
    "collapsed": false,
    "slideshow": {
     "slide_type": "subslide"
    }
   },
   "outputs": [
    {
     "data": {
      "text/html": [
       "<div>\n",
       "<table border=\"1\" class=\"dataframe\">\n",
       "  <thead>\n",
       "    <tr style=\"text-align: right;\">\n",
       "      <th></th>\n",
       "      <th></th>\n",
       "      <th>away_rest</th>\n",
       "      <th>home_rest</th>\n",
       "    </tr>\n",
       "    <tr>\n",
       "      <th>game_id</th>\n",
       "      <th>date</th>\n",
       "      <th></th>\n",
       "      <th></th>\n",
       "    </tr>\n",
       "  </thead>\n",
       "  <tbody>\n",
       "    <tr>\n",
       "      <th>16</th>\n",
       "      <th>2014-10-30</th>\n",
       "      <td>0</td>\n",
       "      <td>1</td>\n",
       "    </tr>\n",
       "    <tr>\n",
       "      <th>18</th>\n",
       "      <th>2014-10-30</th>\n",
       "      <td>0</td>\n",
       "      <td>0</td>\n",
       "    </tr>\n",
       "    <tr>\n",
       "      <th>19</th>\n",
       "      <th>2014-10-30</th>\n",
       "      <td>0</td>\n",
       "      <td>1</td>\n",
       "    </tr>\n",
       "    <tr>\n",
       "      <th>20</th>\n",
       "      <th>2014-10-31</th>\n",
       "      <td>0</td>\n",
       "      <td>1</td>\n",
       "    </tr>\n",
       "    <tr>\n",
       "      <th>21</th>\n",
       "      <th>2014-10-31</th>\n",
       "      <td>1</td>\n",
       "      <td>1</td>\n",
       "    </tr>\n",
       "  </tbody>\n",
       "</table>\n",
       "</div>"
      ],
      "text/plain": [
       "                    away_rest  home_rest\n",
       "game_id date                            \n",
       "16      2014-10-30          0          1\n",
       "18      2014-10-30          0          0\n",
       "19      2014-10-30          0          1\n",
       "20      2014-10-31          0          1\n",
       "21      2014-10-31          1          1"
      ]
     },
     "execution_count": 32,
     "metadata": {},
     "output_type": "execute_result"
    }
   ],
   "source": [
    "un.dropna().head()"
   ]
  },
  {
   "cell_type": "code",
   "execution_count": 34,
   "metadata": {
    "collapsed": false
   },
   "outputs": [
    {
     "data": {
      "text/html": [
       "<div>\n",
       "<table border=\"1\" class=\"dataframe\">\n",
       "  <thead>\n",
       "    <tr style=\"text-align: right;\">\n",
       "      <th></th>\n",
       "      <th></th>\n",
       "      <th>away_team</th>\n",
       "      <th>away_points</th>\n",
       "      <th>home_team</th>\n",
       "      <th>...</th>\n",
       "      <th>home_strength</th>\n",
       "      <th>away_rest</th>\n",
       "      <th>home_rest</th>\n",
       "    </tr>\n",
       "    <tr>\n",
       "      <th>game_id</th>\n",
       "      <th>date</th>\n",
       "      <th></th>\n",
       "      <th></th>\n",
       "      <th></th>\n",
       "      <th></th>\n",
       "      <th></th>\n",
       "      <th></th>\n",
       "      <th></th>\n",
       "    </tr>\n",
       "  </thead>\n",
       "  <tbody>\n",
       "    <tr>\n",
       "      <th>0</th>\n",
       "      <th>2014-10-28</th>\n",
       "      <td>Houston Rockets</td>\n",
       "      <td>108</td>\n",
       "      <td>Los Angeles Lakers</td>\n",
       "      <td>...</td>\n",
       "      <td>3.904762</td>\n",
       "      <td>NaN</td>\n",
       "      <td>NaN</td>\n",
       "    </tr>\n",
       "    <tr>\n",
       "      <th>1</th>\n",
       "      <th>2014-10-28</th>\n",
       "      <td>Orlando Magic</td>\n",
       "      <td>84</td>\n",
       "      <td>New Orleans Pelicans</td>\n",
       "      <td>...</td>\n",
       "      <td>1.822222</td>\n",
       "      <td>NaN</td>\n",
       "      <td>NaN</td>\n",
       "    </tr>\n",
       "    <tr>\n",
       "      <th>2</th>\n",
       "      <th>2014-10-28</th>\n",
       "      <td>Dallas Mavericks</td>\n",
       "      <td>100</td>\n",
       "      <td>San Antonio Spurs</td>\n",
       "      <td>...</td>\n",
       "      <td>1.490909</td>\n",
       "      <td>NaN</td>\n",
       "      <td>NaN</td>\n",
       "    </tr>\n",
       "    <tr>\n",
       "      <th>...</th>\n",
       "      <th>...</th>\n",
       "      <td>...</td>\n",
       "      <td>...</td>\n",
       "      <td>...</td>\n",
       "      <td>...</td>\n",
       "      <td>...</td>\n",
       "      <td>...</td>\n",
       "      <td>...</td>\n",
       "    </tr>\n",
       "    <tr>\n",
       "      <th>1227</th>\n",
       "      <th>2015-04-15</th>\n",
       "      <td>Detroit Pistons</td>\n",
       "      <td>112</td>\n",
       "      <td>New York Knicks</td>\n",
       "      <td>...</td>\n",
       "      <td>4.823529</td>\n",
       "      <td>1</td>\n",
       "      <td>1</td>\n",
       "    </tr>\n",
       "    <tr>\n",
       "      <th>1228</th>\n",
       "      <th>2015-04-15</th>\n",
       "      <td>Miami Heat</td>\n",
       "      <td>105</td>\n",
       "      <td>Philadelphia 76ers</td>\n",
       "      <td>...</td>\n",
       "      <td>4.555556</td>\n",
       "      <td>1</td>\n",
       "      <td>1</td>\n",
       "    </tr>\n",
       "    <tr>\n",
       "      <th>1229</th>\n",
       "      <th>2015-04-15</th>\n",
       "      <td>Charlotte Hornets</td>\n",
       "      <td>87</td>\n",
       "      <td>Toronto Raptors</td>\n",
       "      <td>...</td>\n",
       "      <td>1.673469</td>\n",
       "      <td>1</td>\n",
       "      <td>0</td>\n",
       "    </tr>\n",
       "  </tbody>\n",
       "</table>\n",
       "<p>1230 rows × 9 columns</p>\n",
       "</div>"
      ],
      "text/plain": [
       "                            away_team  away_points             home_team    ...      home_strength away_rest  home_rest\n",
       "game_id date                                                                ...                                        \n",
       "0       2014-10-28    Houston Rockets          108    Los Angeles Lakers    ...           3.904762       NaN        NaN\n",
       "1       2014-10-28      Orlando Magic           84  New Orleans Pelicans    ...           1.822222       NaN        NaN\n",
       "2       2014-10-28   Dallas Mavericks          100     San Antonio Spurs    ...           1.490909       NaN        NaN\n",
       "...                               ...          ...                   ...    ...                ...       ...        ...\n",
       "1227    2015-04-15    Detroit Pistons          112       New York Knicks    ...           4.823529         1          1\n",
       "1228    2015-04-15         Miami Heat          105    Philadelphia 76ers    ...           4.555556         1          1\n",
       "1229    2015-04-15  Charlotte Hornets           87       Toronto Raptors    ...           1.673469         1          0\n",
       "\n",
       "[1230 rows x 9 columns]"
      ]
     },
     "execution_count": 34,
     "metadata": {},
     "output_type": "execute_result"
    }
   ],
   "source": [
    "df = pd.concat([games, un], axis=1)\n",
    "df"
   ]
  },
  {
   "cell_type": "code",
   "execution_count": 35,
   "metadata": {
    "collapsed": false
   },
   "outputs": [],
   "source": [
    "X = pd.concat([games, un], axis=1).set_index(['away_team', 'home_team'], append=True).dropna()"
   ]
  },
  {
   "cell_type": "code",
   "execution_count": 36,
   "metadata": {
    "collapsed": false
   },
   "outputs": [
    {
     "data": {
      "text/html": [
       "<div>\n",
       "<table border=\"1\" class=\"dataframe\">\n",
       "  <thead>\n",
       "    <tr style=\"text-align: right;\">\n",
       "      <th></th>\n",
       "      <th></th>\n",
       "      <th></th>\n",
       "      <th></th>\n",
       "      <th>away_points</th>\n",
       "      <th>home_points</th>\n",
       "      <th>home_win</th>\n",
       "      <th>...</th>\n",
       "      <th>home_strength</th>\n",
       "      <th>away_rest</th>\n",
       "      <th>home_rest</th>\n",
       "    </tr>\n",
       "    <tr>\n",
       "      <th>game_id</th>\n",
       "      <th>date</th>\n",
       "      <th>away_team</th>\n",
       "      <th>home_team</th>\n",
       "      <th></th>\n",
       "      <th></th>\n",
       "      <th></th>\n",
       "      <th></th>\n",
       "      <th></th>\n",
       "      <th></th>\n",
       "      <th></th>\n",
       "    </tr>\n",
       "  </thead>\n",
       "  <tbody>\n",
       "    <tr>\n",
       "      <th>16</th>\n",
       "      <th>2014-10-30</th>\n",
       "      <th>Utah Jazz</th>\n",
       "      <th>Dallas Mavericks</th>\n",
       "      <td>102</td>\n",
       "      <td>120</td>\n",
       "      <td>True</td>\n",
       "      <td>...</td>\n",
       "      <td>1.640000</td>\n",
       "      <td>0</td>\n",
       "      <td>1</td>\n",
       "    </tr>\n",
       "    <tr>\n",
       "      <th>18</th>\n",
       "      <th>2014-10-30</th>\n",
       "      <th>Detroit Pistons</th>\n",
       "      <th>Minnesota Timberwolves</th>\n",
       "      <td>91</td>\n",
       "      <td>97</td>\n",
       "      <td>True</td>\n",
       "      <td>...</td>\n",
       "      <td>5.125000</td>\n",
       "      <td>0</td>\n",
       "      <td>0</td>\n",
       "    </tr>\n",
       "    <tr>\n",
       "      <th>19</th>\n",
       "      <th>2014-10-30</th>\n",
       "      <th>Washington Wizards</th>\n",
       "      <th>Orlando Magic</th>\n",
       "      <td>105</td>\n",
       "      <td>98</td>\n",
       "      <td>False</td>\n",
       "      <td>...</td>\n",
       "      <td>3.280000</td>\n",
       "      <td>0</td>\n",
       "      <td>1</td>\n",
       "    </tr>\n",
       "    <tr>\n",
       "      <th>20</th>\n",
       "      <th>2014-10-31</th>\n",
       "      <th>Cleveland Cavaliers</th>\n",
       "      <th>Chicago Bulls</th>\n",
       "      <td>114</td>\n",
       "      <td>108</td>\n",
       "      <td>False</td>\n",
       "      <td>...</td>\n",
       "      <td>1.640000</td>\n",
       "      <td>0</td>\n",
       "      <td>1</td>\n",
       "    </tr>\n",
       "    <tr>\n",
       "      <th>21</th>\n",
       "      <th>2014-10-31</th>\n",
       "      <th>Memphis Grizzlies</th>\n",
       "      <th>Indiana Pacers</th>\n",
       "      <td>97</td>\n",
       "      <td>89</td>\n",
       "      <td>False</td>\n",
       "      <td>...</td>\n",
       "      <td>2.157895</td>\n",
       "      <td>1</td>\n",
       "      <td>1</td>\n",
       "    </tr>\n",
       "  </tbody>\n",
       "</table>\n",
       "<p>5 rows × 7 columns</p>\n",
       "</div>"
      ],
      "text/plain": [
       "                                                               away_points  home_points home_win    ...      home_strength  away_rest  home_rest\n",
       "game_id date       away_team           home_team                                                    ...                                         \n",
       "16      2014-10-30 Utah Jazz           Dallas Mavericks                102          120     True    ...           1.640000          0          1\n",
       "18      2014-10-30 Detroit Pistons     Minnesota Timberwolves           91           97     True    ...           5.125000          0          0\n",
       "19      2014-10-30 Washington Wizards  Orlando Magic                   105           98    False    ...           3.280000          0          1\n",
       "20      2014-10-31 Cleveland Cavaliers Chicago Bulls                   114          108    False    ...           1.640000          0          1\n",
       "21      2014-10-31 Memphis Grizzlies   Indiana Pacers                   97           89    False    ...           2.157895          1          1\n",
       "\n",
       "[5 rows x 7 columns]"
      ]
     },
     "execution_count": 36,
     "metadata": {},
     "output_type": "execute_result"
    }
   ],
   "source": [
    "X.head()"
   ]
  },
  {
   "cell_type": "code",
   "execution_count": 37,
   "metadata": {
    "collapsed": false
   },
   "outputs": [],
   "source": [
    "X['home_win'] = X.home_win.astype(int)  # for statsmodels"
   ]
  },
  {
   "cell_type": "code",
   "execution_count": 39,
   "metadata": {
    "collapsed": false
   },
   "outputs": [],
   "source": [
    "import statsmodels.api as sm"
   ]
  },
  {
   "cell_type": "code",
   "execution_count": 40,
   "metadata": {
    "collapsed": false
   },
   "outputs": [
    {
     "name": "stdout",
     "output_type": "stream",
     "text": [
      "Optimization terminated successfully.\n",
      "         Current function value: 0.581292\n",
      "         Iterations 6\n"
     ]
    },
    {
     "data": {
      "text/html": [
       "<table class=\"simpletable\">\n",
       "<caption>Logit Regression Results</caption>\n",
       "<tr>\n",
       "  <th>Dep. Variable:</th>     <td>home_win</td>     <th>  No. Observations:  </th>  <td>  1213</td>  \n",
       "</tr>\n",
       "<tr>\n",
       "  <th>Model:</th>               <td>Logit</td>      <th>  Df Residuals:      </th>  <td>  1208</td>  \n",
       "</tr>\n",
       "<tr>\n",
       "  <th>Method:</th>               <td>MLE</td>       <th>  Df Model:          </th>  <td>     4</td>  \n",
       "</tr>\n",
       "<tr>\n",
       "  <th>Date:</th>          <td>Sat, 26 Sep 2015</td> <th>  Pseudo R-squ.:     </th>  <td>0.1482</td>  \n",
       "</tr>\n",
       "<tr>\n",
       "  <th>Time:</th>              <td>11:25:11</td>     <th>  Log-Likelihood:    </th> <td> -705.11</td> \n",
       "</tr>\n",
       "<tr>\n",
       "  <th>converged:</th>           <td>True</td>       <th>  LL-Null:           </th> <td> -827.83</td> \n",
       "</tr>\n",
       "<tr>\n",
       "  <th> </th>                      <td> </td>        <th>  LLR p-value:       </th> <td>6.248e-52</td>\n",
       "</tr>\n",
       "</table>\n",
       "<table class=\"simpletable\">\n",
       "<tr>\n",
       "        <td></td>           <th>coef</th>     <th>std err</th>      <th>z</th>      <th>P>|z|</th> <th>[95.0% Conf. Int.]</th> \n",
       "</tr>\n",
       "<tr>\n",
       "  <th>Intercept</th>     <td>    0.4197</td> <td>    0.234</td> <td>    1.790</td> <td> 0.073</td> <td>   -0.040     0.879</td>\n",
       "</tr>\n",
       "<tr>\n",
       "  <th>home_strength</th> <td>   -0.7929</td> <td>    0.073</td> <td>  -10.866</td> <td> 0.000</td> <td>   -0.936    -0.650</td>\n",
       "</tr>\n",
       "<tr>\n",
       "  <th>away_strength</th> <td>    0.7008</td> <td>    0.080</td> <td>    8.776</td> <td> 0.000</td> <td>    0.544     0.857</td>\n",
       "</tr>\n",
       "<tr>\n",
       "  <th>home_rest</th>     <td>    0.1316</td> <td>    0.069</td> <td>    1.918</td> <td> 0.055</td> <td>   -0.003     0.266</td>\n",
       "</tr>\n",
       "<tr>\n",
       "  <th>away_rest</th>     <td>   -0.0198</td> <td>    0.065</td> <td>   -0.304</td> <td> 0.761</td> <td>   -0.147     0.108</td>\n",
       "</tr>\n",
       "</table>"
      ],
      "text/plain": [
       "<class 'statsmodels.iolib.summary.Summary'>\n",
       "\"\"\"\n",
       "                           Logit Regression Results                           \n",
       "==============================================================================\n",
       "Dep. Variable:               home_win   No. Observations:                 1213\n",
       "Model:                          Logit   Df Residuals:                     1208\n",
       "Method:                           MLE   Df Model:                            4\n",
       "Date:                Sat, 26 Sep 2015   Pseudo R-squ.:                  0.1482\n",
       "Time:                        11:25:11   Log-Likelihood:                -705.11\n",
       "converged:                       True   LL-Null:                       -827.83\n",
       "                                        LLR p-value:                 6.248e-52\n",
       "=================================================================================\n",
       "                    coef    std err          z      P>|z|      [95.0% Conf. Int.]\n",
       "---------------------------------------------------------------------------------\n",
       "Intercept         0.4197      0.234      1.790      0.073        -0.040     0.879\n",
       "home_strength    -0.7929      0.073    -10.866      0.000        -0.936    -0.650\n",
       "away_strength     0.7008      0.080      8.776      0.000         0.544     0.857\n",
       "home_rest         0.1316      0.069      1.918      0.055        -0.003     0.266\n",
       "away_rest        -0.0198      0.065     -0.304      0.761        -0.147     0.108\n",
       "=================================================================================\n",
       "\"\"\""
      ]
     },
     "execution_count": 40,
     "metadata": {},
     "output_type": "execute_result"
    }
   ],
   "source": [
    "mod = sm.Logit.from_formula('home_win ~ home_strength + away_strength + home_rest + away_rest', X)\n",
    "res = mod.fit()\n",
    "res.summary()"
   ]
  },
  {
   "cell_type": "code",
   "execution_count": 41,
   "metadata": {
    "collapsed": false
   },
   "outputs": [
    {
     "name": "stdout",
     "output_type": "stream",
     "text": [
      "Optimization terminated successfully.\n",
      "         Current function value: 0.682125\n",
      "         Iterations 4\n"
     ]
    },
    {
     "data": {
      "text/html": [
       "<table class=\"simpletable\">\n",
       "<caption>Logit Regression Results</caption>\n",
       "<tr>\n",
       "  <th>Dep. Variable:</th>     <td>home_win</td>     <th>  No. Observations:  </th>  <td>  1213</td>  \n",
       "</tr>\n",
       "<tr>\n",
       "  <th>Model:</th>               <td>Logit</td>      <th>  Df Residuals:      </th>  <td>  1211</td>  \n",
       "</tr>\n",
       "<tr>\n",
       "  <th>Method:</th>               <td>MLE</td>       <th>  Df Model:          </th>  <td>     1</td>  \n",
       "</tr>\n",
       "<tr>\n",
       "  <th>Date:</th>          <td>Sat, 26 Sep 2015</td> <th>  Pseudo R-squ.:     </th> <td>0.0004950</td>\n",
       "</tr>\n",
       "<tr>\n",
       "  <th>Time:</th>              <td>11:25:21</td>     <th>  Log-Likelihood:    </th> <td> -827.42</td> \n",
       "</tr>\n",
       "<tr>\n",
       "  <th>converged:</th>           <td>True</td>       <th>  LL-Null:           </th> <td> -827.83</td> \n",
       "</tr>\n",
       "<tr>\n",
       "  <th> </th>                      <td> </td>        <th>  LLR p-value:       </th>  <td>0.3653</td>  \n",
       "</tr>\n",
       "</table>\n",
       "<table class=\"simpletable\">\n",
       "<tr>\n",
       "         <td></td>            <th>coef</th>     <th>std err</th>      <th>z</th>      <th>P>|z|</th> <th>[95.0% Conf. Int.]</th> \n",
       "</tr>\n",
       "<tr>\n",
       "  <th>Intercept</th>       <td>    0.2815</td> <td>    0.060</td> <td>    4.721</td> <td> 0.000</td> <td>    0.165     0.398</td>\n",
       "</tr>\n",
       "<tr>\n",
       "  <th>rest_difference</th> <td>    0.0473</td> <td>    0.052</td> <td>    0.903</td> <td> 0.366</td> <td>   -0.055     0.150</td>\n",
       "</tr>\n",
       "</table>"
      ],
      "text/plain": [
       "<class 'statsmodels.iolib.summary.Summary'>\n",
       "\"\"\"\n",
       "                           Logit Regression Results                           \n",
       "==============================================================================\n",
       "Dep. Variable:               home_win   No. Observations:                 1213\n",
       "Model:                          Logit   Df Residuals:                     1211\n",
       "Method:                           MLE   Df Model:                            1\n",
       "Date:                Sat, 26 Sep 2015   Pseudo R-squ.:               0.0004950\n",
       "Time:                        11:25:21   Log-Likelihood:                -827.42\n",
       "converged:                       True   LL-Null:                       -827.83\n",
       "                                        LLR p-value:                    0.3653\n",
       "===================================================================================\n",
       "                      coef    std err          z      P>|z|      [95.0% Conf. Int.]\n",
       "-----------------------------------------------------------------------------------\n",
       "Intercept           0.2815      0.060      4.721      0.000         0.165     0.398\n",
       "rest_difference     0.0473      0.052      0.903      0.366        -0.055     0.150\n",
       "===================================================================================\n",
       "\"\"\""
      ]
     },
     "execution_count": 41,
     "metadata": {},
     "output_type": "execute_result"
    }
   ],
   "source": [
    "mod = sm.Logit.from_formula('home_win ~ rest_difference',\n",
    "                            X.assign(rest_difference=lambda df: df.home_rest - df.away_rest))\n",
    "res = mod.fit()\n",
    "res.summary()"
   ]
  },
  {
   "cell_type": "code",
   "execution_count": 42,
   "metadata": {
    "collapsed": false
   },
   "outputs": [
    {
     "data": {
      "text/html": [
       "<table class=\"simpletable\">\n",
       "<caption>OLS Regression Results</caption>\n",
       "<tr>\n",
       "  <th>Dep. Variable:</th>         <td>spread</td>      <th>  R-squared:         </th> <td>   0.206</td>\n",
       "</tr>\n",
       "<tr>\n",
       "  <th>Model:</th>                   <td>OLS</td>       <th>  Adj. R-squared:    </th> <td>   0.204</td>\n",
       "</tr>\n",
       "<tr>\n",
       "  <th>Method:</th>             <td>Least Squares</td>  <th>  F-statistic:       </th> <td>   104.5</td>\n",
       "</tr>\n",
       "<tr>\n",
       "  <th>Date:</th>             <td>Sat, 26 Sep 2015</td> <th>  Prob (F-statistic):</th> <td>3.88e-60</td>\n",
       "</tr>\n",
       "<tr>\n",
       "  <th>Time:</th>                 <td>11:26:07</td>     <th>  Log-Likelihood:    </th> <td> -4735.7</td>\n",
       "</tr>\n",
       "<tr>\n",
       "  <th>No. Observations:</th>      <td>  1213</td>      <th>  AIC:               </th> <td>   9479.</td>\n",
       "</tr>\n",
       "<tr>\n",
       "  <th>Df Residuals:</th>          <td>  1209</td>      <th>  BIC:               </th> <td>   9500.</td>\n",
       "</tr>\n",
       "<tr>\n",
       "  <th>Df Model:</th>              <td>     3</td>      <th>                     </th>     <td> </td>   \n",
       "</tr>\n",
       "<tr>\n",
       "  <th>Covariance Type:</th>      <td>nonrobust</td>    <th>                     </th>     <td> </td>   \n",
       "</tr>\n",
       "</table>\n",
       "<table class=\"simpletable\">\n",
       "<tr>\n",
       "         <td></td>            <th>coef</th>     <th>std err</th>      <th>t</th>      <th>P>|t|</th> <th>[95.0% Conf. Int.]</th> \n",
       "</tr>\n",
       "<tr>\n",
       "  <th>Intercept</th>       <td>    3.4827</td> <td>    1.171</td> <td>    2.975</td> <td> 0.003</td> <td>    1.186     5.779</td>\n",
       "</tr>\n",
       "<tr>\n",
       "  <th>home_strength</th>   <td>   -4.3927</td> <td>    0.336</td> <td>  -13.069</td> <td> 0.000</td> <td>   -5.052    -3.733</td>\n",
       "</tr>\n",
       "<tr>\n",
       "  <th>away_strength</th>   <td>    3.8626</td> <td>    0.338</td> <td>   11.425</td> <td> 0.000</td> <td>    3.199     4.526</td>\n",
       "</tr>\n",
       "<tr>\n",
       "  <th>rest_difference</th> <td>    0.5875</td> <td>    0.310</td> <td>    1.896</td> <td> 0.058</td> <td>   -0.021     1.195</td>\n",
       "</tr>\n",
       "</table>\n",
       "<table class=\"simpletable\">\n",
       "<tr>\n",
       "  <th>Omnibus:</th>       <td> 6.266</td> <th>  Durbin-Watson:     </th> <td>   1.984</td>\n",
       "</tr>\n",
       "<tr>\n",
       "  <th>Prob(Omnibus):</th> <td> 0.044</td> <th>  Jarque-Bera (JB):  </th> <td>   6.858</td>\n",
       "</tr>\n",
       "<tr>\n",
       "  <th>Skew:</th>          <td> 0.107</td> <th>  Prob(JB):          </th> <td>  0.0324</td>\n",
       "</tr>\n",
       "<tr>\n",
       "  <th>Kurtosis:</th>      <td> 3.300</td> <th>  Cond. No.          </th> <td>    12.5</td>\n",
       "</tr>\n",
       "</table>"
      ],
      "text/plain": [
       "<class 'statsmodels.iolib.summary.Summary'>\n",
       "\"\"\"\n",
       "                            OLS Regression Results                            \n",
       "==============================================================================\n",
       "Dep. Variable:                 spread   R-squared:                       0.206\n",
       "Model:                            OLS   Adj. R-squared:                  0.204\n",
       "Method:                 Least Squares   F-statistic:                     104.5\n",
       "Date:                Sat, 26 Sep 2015   Prob (F-statistic):           3.88e-60\n",
       "Time:                        11:26:07   Log-Likelihood:                -4735.7\n",
       "No. Observations:                1213   AIC:                             9479.\n",
       "Df Residuals:                    1209   BIC:                             9500.\n",
       "Df Model:                           3                                         \n",
       "Covariance Type:            nonrobust                                         \n",
       "===================================================================================\n",
       "                      coef    std err          t      P>|t|      [95.0% Conf. Int.]\n",
       "-----------------------------------------------------------------------------------\n",
       "Intercept           3.4827      1.171      2.975      0.003         1.186     5.779\n",
       "home_strength      -4.3927      0.336    -13.069      0.000        -5.052    -3.733\n",
       "away_strength       3.8626      0.338     11.425      0.000         3.199     4.526\n",
       "rest_difference     0.5875      0.310      1.896      0.058        -0.021     1.195\n",
       "==============================================================================\n",
       "Omnibus:                        6.266   Durbin-Watson:                   1.984\n",
       "Prob(Omnibus):                  0.044   Jarque-Bera (JB):                6.858\n",
       "Skew:                           0.107   Prob(JB):                       0.0324\n",
       "Kurtosis:                       3.300   Cond. No.                         12.5\n",
       "==============================================================================\n",
       "\n",
       "Warnings:\n",
       "[1] Standard Errors assume that the covariance matrix of the errors is correctly specified.\n",
       "\"\"\""
      ]
     },
     "execution_count": 42,
     "metadata": {},
     "output_type": "execute_result"
    }
   ],
   "source": [
    "mod = sm.OLS.from_formula('spread ~ home_strength + away_strength + rest_difference',\n",
    "                            X.assign(rest_difference=lambda df: df.home_rest - df.away_rest,\n",
    "                                     spread=lambda df: df.home_points - df.away_points))\n",
    "res = mod.fit()\n",
    "res.summary()"
   ]
  },
  {
   "cell_type": "markdown",
   "metadata": {
    "collapsed": true,
    "slideshow": {
     "slide_type": "slide"
    }
   },
   "source": [
    "# Recap\n",
    "\n",
    "- Tidy data: one row per observation\n",
    "    - melt / stack: wide to long\n",
    "    - pivot_table / unstack: long to wide"
   ]
  },
  {
   "cell_type": "code",
   "execution_count": null,
   "metadata": {
    "collapsed": true
   },
   "outputs": [],
   "source": []
  }
 ],
 "metadata": {
  "celltoolbar": "Slideshow",
  "kernelspec": {
   "display_name": "Python 2",
   "language": "python",
   "name": "python2"
  },
  "language_info": {
   "codemirror_mode": {
    "name": "ipython",
    "version": 2
   },
   "file_extension": ".py",
   "mimetype": "text/x-python",
   "name": "python",
   "nbconvert_exporter": "python",
   "pygments_lexer": "ipython2",
   "version": "2.7.10"
  }
 },
 "nbformat": 4,
 "nbformat_minor": 0
}
