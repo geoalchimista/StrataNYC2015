{
 "cells": [
  {
   "cell_type": "markdown",
   "metadata": {},
   "source": [
    "# indexing methods"
   ]
  },
  {
   "cell_type": "code",
   "execution_count": 1,
   "metadata": {
    "collapsed": false
   },
   "outputs": [],
   "source": [
    "pd.set_option('max_rows',12)"
   ]
  },
  {
   "cell_type": "code",
   "execution_count": 45,
   "metadata": {
    "collapsed": false
   },
   "outputs": [],
   "source": [
    "def f_ix(df):\n",
    "    df.ix[0,0] = 0\n",
    "def f_loc(df):\n",
    "    df.loc[0,'A'] = 0\n",
    "def f_iloc(df):\n",
    "    df.iloc[0,0] = 0\n",
    "def f_at(df):\n",
    "    df.at[0,'A'] = 0\n",
    "def f_iat(df):\n",
    "    df.iat[0,0] = 0\n",
    "def f_numpy(df):\n",
    "    df.values[0,0] = 0\n",
    "def cf():    \n",
    "    return pd.DataFrame(np.random.randn(10000,2),columns=list('AB'))"
   ]
  },
  {
   "cell_type": "code",
   "execution_count": 39,
   "metadata": {
    "collapsed": false
   },
   "outputs": [
    {
     "name": "stdout",
     "output_type": "stream",
     "text": [
      "100 loops, best of 1: 192 µs per loop\n"
     ]
    }
   ],
   "source": [
    "df = cf()\n",
    "%timeit -n 100 -r 1 f_ix(df)"
   ]
  },
  {
   "cell_type": "code",
   "execution_count": 40,
   "metadata": {
    "collapsed": false
   },
   "outputs": [
    {
     "name": "stdout",
     "output_type": "stream",
     "text": [
      "100 loops, best of 1: 149 µs per loop\n"
     ]
    }
   ],
   "source": [
    "df = cf()\n",
    "%timeit -n 100 -r 1 f_loc(df)"
   ]
  },
  {
   "cell_type": "code",
   "execution_count": 41,
   "metadata": {
    "collapsed": false
   },
   "outputs": [
    {
     "name": "stdout",
     "output_type": "stream",
     "text": [
      "100 loops, best of 1: 188 µs per loop\n"
     ]
    }
   ],
   "source": [
    "df = cf()\n",
    "%timeit -n 100 -r 1 f_iloc(df)"
   ]
  },
  {
   "cell_type": "code",
   "execution_count": 42,
   "metadata": {
    "collapsed": false
   },
   "outputs": [
    {
     "name": "stdout",
     "output_type": "stream",
     "text": [
      "100 loops, best of 1: 18.1 µs per loop\n"
     ]
    }
   ],
   "source": [
    "df = cf()\n",
    "%timeit -n 100 -r 1 f_at(df)"
   ]
  },
  {
   "cell_type": "code",
   "execution_count": 43,
   "metadata": {
    "collapsed": false
   },
   "outputs": [
    {
     "name": "stdout",
     "output_type": "stream",
     "text": [
      "100 loops, best of 1: 16.3 µs per loop\n"
     ]
    }
   ],
   "source": [
    "df = cf()\n",
    "%timeit -n 100 -r 1 f_iat(df)"
   ]
  },
  {
   "cell_type": "code",
   "execution_count": 44,
   "metadata": {
    "collapsed": false
   },
   "outputs": [
    {
     "name": "stdout",
     "output_type": "stream",
     "text": [
      "100 loops, best of 1: 10.4 µs per loop\n"
     ]
    }
   ],
   "source": [
    "df = cf()\n",
    "%timeit -n 100 -r 1 f_numpy(df)"
   ]
  },
  {
   "cell_type": "markdown",
   "metadata": {},
   "source": [
    "# does this matter"
   ]
  },
  {
   "cell_type": "code",
   "execution_count": 47,
   "metadata": {
    "collapsed": true
   },
   "outputs": [],
   "source": [
    "def f1(df):\n",
    "    na = df.values\n",
    "    for i in xrange(len(df)):\n",
    "        na[i,0] = 0\n",
    "def f2(df):\n",
    "    for i in xrange(len(df)):\n",
    "        df.iat[i,0] = 0\n",
    "def f3(df):\n",
    "    df.iloc[:,0] = 0"
   ]
  },
  {
   "cell_type": "code",
   "execution_count": 49,
   "metadata": {
    "collapsed": false
   },
   "outputs": [
    {
     "name": "stdout",
     "output_type": "stream",
     "text": [
      "100 loops, best of 1: 1.44 ms per loop\n"
     ]
    }
   ],
   "source": [
    "df = cf()\n",
    "%timeit -n 100 -r 1 f1(df)"
   ]
  },
  {
   "cell_type": "code",
   "execution_count": 50,
   "metadata": {
    "collapsed": false
   },
   "outputs": [
    {
     "name": "stdout",
     "output_type": "stream",
     "text": [
      "100 loops, best of 1: 92.1 ms per loop\n"
     ]
    }
   ],
   "source": [
    "df = cf()\n",
    "%timeit -n 100 -r 1 f2(df)"
   ]
  },
  {
   "cell_type": "code",
   "execution_count": 51,
   "metadata": {
    "collapsed": false
   },
   "outputs": [
    {
     "name": "stdout",
     "output_type": "stream",
     "text": [
      "100 loops, best of 1: 353 µs per loop\n"
     ]
    }
   ],
   "source": [
    "df = cf()\n",
    "%timeit -n 100 -r 1 f3(df)"
   ]
  },
  {
   "cell_type": "code",
   "execution_count": null,
   "metadata": {
    "collapsed": true
   },
   "outputs": [],
   "source": []
  }
 ],
 "metadata": {
  "kernelspec": {
   "display_name": "Python 2",
   "language": "python",
   "name": "python2"
  },
  "language_info": {
   "codemirror_mode": {
    "name": "ipython",
    "version": 2
   },
   "file_extension": ".py",
   "mimetype": "text/x-python",
   "name": "python",
   "nbconvert_exporter": "python",
   "pygments_lexer": "ipython2",
   "version": "2.7.10"
  }
 },
 "nbformat": 4,
 "nbformat_minor": 0
}
